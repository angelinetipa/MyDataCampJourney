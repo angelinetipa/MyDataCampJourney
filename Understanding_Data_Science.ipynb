{
  "nbformat": 4,
  "nbformat_minor": 0,
  "metadata": {
    "colab": {
      "provenance": []
    },
    "kernelspec": {
      "name": "python3",
      "display_name": "Python 3"
    },
    "language_info": {
      "name": "python"
    }
  },
  "cells": [
    {
      "cell_type": "markdown",
      "source": [
        "# **WHAT IS DATA SCIENCE?**\n",
        "\n",
        "a way to make sense of the huge amounts of information we generate every day.\n",
        "\n",
        "Example of Data Science\n",
        "* every tap on your phone\n",
        "* every personalized recommendation on your streaming service\n",
        "* every fraud alert on your credit card\n",
        "\n",
        "Its about taking all that **raw data**, **cleaning it up**, and **uncovering the patterns** hidden inside. These patterns help us make better predictions and improve outcomes\n",
        "\n",
        "So why is data science so central today? **It's because were generating more data than ever before.** It's making our world more convenient, exciting, and downright futuristic.\n",
        "\n",
        "Alexa, Siri, or the Google Assistant. They’re sophisticated systems powered by **deep learning**. They understand your speech, learn your habits, and provide answers that become more helpful over time."
      ],
      "metadata": {
        "id": "JW_s-vsvp56H"
      }
    },
    {
      "cell_type": "markdown",
      "source": [
        "# **DATA ENGINEERS**\n",
        "* experts in SQL\n",
        "* often work with **Python, Java, or Scala**.\n",
        "* With cloud computing booming, they’re also great at managing huge amounts of data online, ensuring everything flows smoothly from collection to analysis.\n",
        "\n",
        "# **DATA ANALYSTS**\n",
        "* turning messy, raw data into clear, visual stories that everyone can understand\n",
        "* clean up data and create charts, graphs and dashboard\n",
        "* using tools like Tableau, Power BI, spreadsheets, SQL\n",
        "* FOCUS - explaining what's happening right now\n",
        "\n",
        "# **DATA SCIENTIST**\n",
        "* take things further\n",
        "* use statistics and machine learning techniques to dig deep into the data\n",
        "* uncover hidden patterns and predicting future trends\n",
        "* work mainly with R or Python, using libraries like tidyverse or pandas to experiment, model scenarios and forecast outcomes\n",
        "\n",
        "# **MACHINE LEARNING SCIENTISTS**\n",
        "* focus on building models that oredict what's coming next using advanced algorithms and deep learning tools like TensorFlow\n",
        "* tackling complex tasks such as image recognition or natural language processing\n",
        "\n",
        "# **AI ENGINEERS**\n",
        "* go further\n",
        "* integrating AI into real-world applications (developing smart chatbots, enhancing virtual assistants, improving self-driving car technologies).\n",
        "\n",
        "These roles blend the science of data to create systems that can learn, adapt and make decisions on their own."
      ],
      "metadata": {
        "id": "s8iYB5ISulEa"
      }
    },
    {
      "cell_type": "markdown",
      "source": [
        "# **DATA SOURCES**\n",
        "\n",
        "To access open data\n",
        "\n",
        "*   API\n",
        "*   Public records\n",
        "\n",
        "**APPLICATION PROGRAMMING INTERFACE**\n",
        "an easy way of requesting data from a third party over the internet. Examples are Twitter, Wikipedia, Yahoo! Finance, Google Maps\n",
        "\n",
        "**PUBLIC RECORDS**\n",
        "can be collected and shared by international organizations like the\n",
        "\n",
        "* International Organizations - World Bank, the UN or WTO\n",
        "* National statistical offices - censuses, surveys\n",
        "* Government agencies - weather, environment, population\n",
        "\n",
        "**DATA COLLECTION** is the first step in the data workflow.\n",
        "\n",
        "# **DATA TYPES**\n",
        "Important later on\n",
        "* Storing the data\n",
        "* Visualizing/analyzing the data\n",
        "\n",
        "\n",
        "General Types of Data\n",
        "* Quantitative Data\n",
        "  * Deals with numbers\n",
        "  * Data can be measured\n",
        "  \n",
        "* Qualitative Data\n",
        "  * Deals with descriptions\n",
        "  * Data can be observed but not measured"
      ],
      "metadata": {
        "id": "r3umWH9pzeqb"
      }
    },
    {
      "cell_type": "markdown",
      "source": [
        "# **DATA STORAGE AND RETRIEVAL**\n",
        "\n",
        "Things to consider when storing data\n",
        "* Location\n",
        "* Data type\n",
        "* Retrieval\n",
        "\n",
        "**Cluster or Server** - large companies often have their own set of storage computers\n",
        "\n",
        "Types of Data Storage\n",
        "Unstructured - often stored in a type of database called **Document Database**.\n",
        "* Email\n",
        "* Text\n",
        "* Video and audio files\n",
        "* Web pages\n",
        "* Social media\n",
        "\n",
        "Tabular - Relational Database - database that stores information in tables\n",
        "\n",
        "Both document and relational database can be found on the cloud storage.\n",
        "\n",
        "Each type of database has its own query language\n",
        "* Document database - mainly use NoSQL (Not only SQL)\n",
        "* Relational database - mainly use SQL (Structured Query Language)\n"
      ],
      "metadata": {
        "id": "lnZF1fr3v82W"
      }
    },
    {
      "cell_type": "markdown",
      "source": [
        "# **DATA PIPELINE**\n",
        "* moves data into defined stages. ex. from data ingestion through an API to loading data into a database\n",
        "* automated collection and storage\n",
        "  * scheduled hourly, daily, weekly, etc\n",
        "  * triggered by an event\n",
        "* Monitored with generated alerts\n",
        "* Necessary for big data projects\n",
        "* Data engineers work to customize solutions\n",
        "* Extract Transform Load (ETL) is popular framework for data pipelines\n",
        "\n",
        "**Transform**\n",
        "with all the data coming in, how do we keep it organized and easy to use\n",
        "Example transformations:\n",
        "* Joining data sources into one data set\n",
        "* converting data structures to fit database schemas (Database's schemas - informs us how data must be structured before loading it in.)\n",
        "* removing irrelevant data"
      ],
      "metadata": {
        "id": "bkXaaaF4Hh1E"
      }
    },
    {
      "cell_type": "markdown",
      "source": [
        "#**Data Preparation**\n",
        "happens after collecting and storing the data\n",
        "\n",
        "Exploratory Data Analysis, or EDA for short, is a process that was promoted by John Tukey, a respected statistician. It consists in exploring the data and formulating hypotheses about it, and assessing its main characteristics, with a strong emphasis on visualization.\n",
        "\n",
        "Descriptive statistics do better, but can be misleading; visualization teaches us the most.\n",
        "\n"
      ],
      "metadata": {
        "id": "mrTpIptKTMDX"
      }
    },
    {
      "cell_type": "markdown",
      "source": [
        "# **Visualization**\n",
        "\n",
        "* One picture is worth a thousand words. if it makes sense.\n",
        "* Sometimes one color is enough.\n",
        "* Existing color palettes accessible to everyone\n",
        "* Sans-serif ones are easier to read\n",
        "* Provide a legend if you use colors and patterns\n",
        "\n",
        "**DASHBOARDS**: group all the relevant information in one place to make it easier to gather insights and act on them.\n"
      ],
      "metadata": {
        "id": "LzxDPQTTggVR"
      }
    },
    {
      "cell_type": "markdown",
      "source": [
        "**WHAT IS A/B TESTING?**\n",
        "AKA Champion/Challenger Testing\n",
        "- its used to make a choice between two options\n",
        "4 steps\n",
        "* picking a metric a track - click-through rate\n",
        "* calculating sample size\n",
        "* running the experiment\n",
        "* checking for siginificance"
      ],
      "metadata": {
        "id": "GrDtbY8hZlDX"
      }
    },
    {
      "cell_type": "markdown",
      "source": [
        "**WHAT IS STATISTICAL MODEL?**\n",
        "* represent a real-world process with statistics\n",
        "* mathematical relationships between variables, including random variables\n",
        "* based on statistical assumptions and historical data\n",
        "\n",
        "PREDICTIVE MODELING\n",
        "- is a sub-category of modeling used for prediction\n",
        "- we can enter new inputs and see what outcome it outputs\n",
        "  - probability of an outcome\n",
        "- ranges in complexity, from a linear equation to a deep learning algorithm\n",
        "\n",
        "TIME SERIES DATA\n",
        "a series of data points sequenced by time\n",
        "- stock prices\n",
        "- gas prices\n",
        "- unemployment rates\n",
        "- heart rate\n"
      ],
      "metadata": {
        "id": "KrFGSkyNHGS7"
      }
    },
    {
      "cell_type": "markdown",
      "source": [
        "MACHINE LEARNING - predictions from data\n",
        "\n",
        "SUPERVISED MACHINE LEARNING\n",
        "predictions from data with labels and features\n",
        "- recommendation systems\n",
        "- diagnosing biomedical images\n",
        "- recognizing hand-written digits\n",
        "- predicting customer churn\n"
      ],
      "metadata": {
        "id": "22_lmFn5MYY0"
      }
    },
    {
      "cell_type": "markdown",
      "source": [
        "# **CLUSTERING**\n",
        "- set of machine learning algorithms that divide data into categories called **clusters**\n",
        "- uses cases\n",
        "  - customer segmentation\n",
        "  - image segmentation\n",
        "  -\n",
        "\n",
        "SUPERVISED ML\n",
        "uses features and labels\n",
        "\n",
        "UNSUPERVISED ML\n",
        "features\n",
        "\n"
      ],
      "metadata": {
        "id": "GxM4WE_9WmAu"
      }
    },
    {
      "cell_type": "markdown",
      "source": [
        "# **DATA SCIENCE WORKFLOW**\n",
        "1. data collection & storage\n",
        "2. data preparation\n",
        "3. exploration & visualization\n",
        "4. experimentation & prediction\n",
        "\n",
        "What's next?\n",
        "- Introduction to Python\n",
        "- Data Literacy Fundamentals skill track"
      ],
      "metadata": {
        "id": "AOYM8IaJZcdA"
      }
    }
  ]
}