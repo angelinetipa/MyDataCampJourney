{
  "nbformat": 4,
  "nbformat_minor": 0,
  "metadata": {
    "colab": {
      "provenance": [],
      "authorship_tag": "ABX9TyNnLWyhCZ3V+ZughLzT2Vn8",
      "include_colab_link": true
    },
    "kernelspec": {
      "name": "python3",
      "display_name": "Python 3"
    },
    "language_info": {
      "name": "python"
    }
  },
  "cells": [
    {
      "cell_type": "markdown",
      "metadata": {
        "id": "view-in-github",
        "colab_type": "text"
      },
      "source": [
        "<a href=\"https://colab.research.google.com/github/angelinetipa/MyDataCampJourney/blob/master/Understanding_Data_Visualization.ipynb\" target=\"_parent\"><img src=\"https://colab.research.google.com/assets/colab-badge.svg\" alt=\"Open In Colab\"/></a>"
      ]
    },
    {
      "cell_type": "markdown",
      "source": [
        "**Three ways of getting insights**\n",
        "1. Calculating summary insights\n",
        "  - mean,median, standard deviation\n",
        "2. Running models\n",
        "  - linear and logistics regression to model relationships between variables\n",
        "3. Drawing plots\n",
        "  - to visualize data\n",
        "\n",
        "**Variable** - statistics jargon for a column of data\n",
        "\n",
        "**Continuous**- usually numbers\n",
        "  - heights, temperatures, revenues- can do arithmetic like adding...\n",
        "\n",
        "**Categorical** - usually text\n",
        "  - eye color, countries, industry- can be classified\n",
        "\n",
        "Can be **Continuous and Categorical**\n",
        "- age is continuous, but age group is categorical\n",
        "- time is continous, month of year is categorical\n"
      ],
      "metadata": {
        "id": "HRSMos7fT4P3"
      }
    },
    {
      "cell_type": "markdown",
      "source": [
        "## **HISTOGRAM** - focus one variable\n",
        "- use when have a single continuous variable\n",
        "- want to ask questions about the shape of its distribution\n",
        "- **Modality**\n",
        "  - unimodal - one peak\n",
        "  - bimodal - two peak\n",
        "  - trimodal - three peak\n",
        "- **Skewness**\n",
        "  - left-skewed - outliers on left\n",
        "  - right-skewed - outliers on right\n",
        "  - symmetric - outliers on both sides\n",
        "- **Kurtosis**\n",
        "  - leptokurtic - has narrow peak and lots of extreme values\n",
        "  - mesokurtic - looks like bell curve from normal distribution\n",
        "  - platykurtic - broad peak and few extreme values"
      ],
      "metadata": {
        "id": "_DJSzylzYd-o"
      }
    },
    {
      "cell_type": "markdown",
      "source": [
        "## **BOX PLOTS** - focus one variable\n",
        "- use when you have a continuous variable, split by a categorical variable\n",
        "- want to compare the distributions of the continuous variable for each category"
      ],
      "metadata": {
        "id": "xW_58cuNalea"
      }
    },
    {
      "cell_type": "markdown",
      "source": [
        "## **SCATTER PLOTS** - focus two variables\n",
        "- use when have two continuous variable\n",
        "- want to answer questions about the relationship between the two variables. For example, if one variable increases, does the other one increase too, or does it decrease?\n",
        "-** four or more variables can quickly become complicated to interpret**\n",
        "\n",
        "- **Correlation** - a measure of how well you can draw a straight line through the points\n",
        "  - Positive correlation - straight line goes upwards as you move to the right\n",
        "  - Negatice correlation - the line goes down as you go to the right\n",
        "  - No correlation - scattered on center\n"
      ],
      "metadata": {
        "id": "E6yMZgUCbi7Q"
      }
    },
    {
      "cell_type": "markdown",
      "source": [
        "## **LINE PLOTS**\n",
        "- relative of scatter plot\n",
        "- use when have two continuous variables\n",
        "- want to answer questions about their relationship\n",
        "- consecutive observations are connected somehow\n",
        "- Usually, but not always, the x-axis is dates or times"
      ],
      "metadata": {
        "id": "VjUjRAJkevrp"
      }
    },
    {
      "cell_type": "markdown",
      "source": [
        "## **BAR PLOTS**\n",
        "- relative of box plots\n",
        "- use when have a categorical variable\n",
        "- want counts or percentage for each category\n",
        "- Occassionaly\n",
        "  - Want another numeric score for each category, and need to include zero in the plot"
      ],
      "metadata": {
        "id": "BvF_RU0Fgjht"
      }
    },
    {
      "cell_type": "markdown",
      "source": [
        "# **DOT PLOTS**\n",
        "- relative of bar plots\n",
        "- use when have categorical variable\n",
        "- want to display numeric scores for each category on a log scale\n",
        "- want to display multiple numeric scores for each category"
      ],
      "metadata": {
        "id": "AI8zXo2niYtn"
      }
    },
    {
      "cell_type": "markdown",
      "source": [
        "## **3D SCATTER PLOT**\n",
        "- terrible idea to use for many variables\n",
        "\n",
        "WAYS OF DRAWING MORE THAN TWO DIMENSIONS ON A FLAT SCREEN\n",
        "- Points also have these dimensions\n",
        "  - color\n",
        "  - size\n",
        "  - transparency\n",
        "  - shape\n",
        "  - Final option, is to draw panels for different subsets of the dataset\n",
        "\n",
        "- LINE PLOTS\n",
        "  - colors\n",
        "  - transparency\n",
        "  - panels\n",
        "  - line widths\n",
        "  - linetype (solid, dashes, dots)"
      ],
      "metadata": {
        "id": "Uriil2m4jn2X"
      }
    },
    {
      "cell_type": "markdown",
      "source": [
        "## **USING COLOR**\n",
        "- most powerful tool we have for distinguishing data values\n",
        "\n",
        "**HUE-CHROMA-LUMINANCE-HCL**\n",
        "- colorspace designed for data visualization\n",
        "- designed to deal with issues of colro perception\n",
        "\n",
        "**CHROMA** - intensity of the color\n",
        "**LUMINANCE** - brightness of the color\n",
        "\n",
        "VIRIDIS - a color scale designed to be easily viewable by color blind people, to print well in black and white\n",
        "\n",
        "## **CHOOSING COLORS FOR UR PLOT**\n",
        "**THREE TYPES OF COLOR SCALE**\n",
        "1. **Qualitative**\n",
        "  - Purpose: distinguish unordered categories\n",
        "  - Changing the hue, keeping the chroma and luminance fixed\n",
        "\n",
        "2. **Sequential**\n",
        "  - Purpose: show ordering\n",
        "  - Changing either chroma or luminance, keeping the hue fixed\n",
        "\n",
        "3. **Diverging**\n",
        "  - Purpose: show above or below a midpoint. Emphasize whether values are greater than or less than some middle value.\n",
        "  - similar to sequential scales, but have neutral color like white or gray in the middle, and have increasingly bold colors with different hues on either edge\n"
      ],
      "metadata": {
        "id": "466gaXfHmc1q"
      }
    },
    {
      "cell_type": "markdown",
      "source": [
        "## **VISUALIZE MANY VARIABLES**\n",
        "\n",
        "**PAIR PLOT**\n",
        "- use when have up to ten variables (either continuous, categorical, or mix)\n",
        "- want to see the distribution for each variable\n",
        "- want to see the relationship between each pair of variables\n",
        "\n",
        "**CORRELATION HEATMAP**\n",
        "- designed to show relationships between pairs of continuous variables\n",
        "- want to a simple overview of how each pair of variables is related\n",
        "\n",
        "**PARALLEL COORDINATES PLOT**\n",
        "- use when have lots of cotinuous variables\n",
        "- want to find patterns across these variables\n",
        "- want to visualize clusters of observations\n"
      ],
      "metadata": {
        "id": "-j7W4BbMysJi"
      }
    },
    {
      "cell_type": "markdown",
      "source": [
        "## **PIE PLOT**\n",
        "- harder to interpret\n",
        "- They are just bar plots converted into polar coordinates, and humans are generally worse at perceiving angles accurately compared to lengths.\n",
        "- bar plots are easire than pie plot\n",
        "- never a good idea to use **POLAR COORDINATES**\n",
        "- Acceptable: if you have a variable that is naturally circular (time of day, compass direction)\n",
        "\n",
        "Histogram + polar coords = rose plot"
      ],
      "metadata": {
        "id": "Yvb6qGis3Rjp"
      }
    },
    {
      "cell_type": "markdown",
      "source": [
        "## **TWO BASIC MEASURES OF HOW GOOD UR DATA VISUALIZATION**\n",
        "1. How many insights can the reader get from your plot\n",
        "2. How quickly the reader will get those insights\n",
        "\n",
        "**CHARTJUNK** - any element of the plot that distracts from the reader getting insight\n",
        "- pictures\n",
        "- skuemorphism: regflections, shadows, etc\n",
        "- extra dimensions\n",
        "- ostentatious colors or lines\n",
        "\n",
        "\n",
        "\n",
        "**NEXT STEPS**\n",
        "- Introduction to Data Visualization with ggplot2 - courses in the R package ggplot2, which was used to create the plots in this course\n",
        "\n",
        "**BUSINESS INTELLIGENCE TOOL**\n",
        "- Intro to Tableau\n",
        "- Intro to Data Visualization with Matplotlib\n",
        "- Intro to Data Visualization with Seaborn"
      ],
      "metadata": {
        "id": "qi-1e5QUC40m"
      }
    }
  ]
}