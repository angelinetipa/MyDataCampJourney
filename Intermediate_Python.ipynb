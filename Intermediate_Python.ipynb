{
  "nbformat": 4,
  "nbformat_minor": 0,
  "metadata": {
    "colab": {
      "provenance": [],
      "authorship_tag": "ABX9TyOEWMW4OKv3ZllI5BbcMQvq",
      "include_colab_link": true
    },
    "kernelspec": {
      "name": "python3",
      "display_name": "Python 3"
    },
    "language_info": {
      "name": "python"
    }
  },
  "cells": [
    {
      "cell_type": "markdown",
      "metadata": {
        "id": "view-in-github",
        "colab_type": "text"
      },
      "source": [
        "<a href=\"https://colab.research.google.com/github/angelinetipa/MyDataCampJourney/blob/master/Intermediate_Python.ipynb\" target=\"_parent\"><img src=\"https://colab.research.google.com/assets/colab-badge.svg\" alt=\"Open In Colab\"/></a>"
      ]
    },
    {
      "cell_type": "markdown",
      "source": [
        "There are many visualization packages in python, but the mother of them all, is **MATPLOTLIB**.\n",
        "\n",
        "---\n",
        "**LINE PLOT**\n",
        "- when you have a time scale along the horizontal axis\n",
        "```\n",
        "import matplotlib.pyplot as plt\n",
        "plt.plot(x,y)\n",
        "plt.show()\n",
        "```\n",
        "---\n",
        "**SCATTER PLOT**\n",
        "- when you're trying to assess if there's a correlation between two variables\n",
        "```\n",
        "import matplotlib.pyplot as plt\n",
        "plt.scatter(x,y)\n",
        "plt.show()\n",
        "```\n",
        "---\n",
        "**HISTOGRAM**\n",
        "- explore dataset\n",
        "- get idea about distribution\n",
        "```\n",
        "import matplotlib.pyplot as plt\n",
        "plt.hist(values,bins = how many bins the data should be divided)\n",
        "plt.show()\n",
        "```\n",
        "- `plt.show()` displays a plot\n",
        "- `plt.clf()` cleans it up again so you can start afresh.\n"
      ],
      "metadata": {
        "id": "Nwpi0Tu8AV5c"
      }
    },
    {
      "cell_type": "code",
      "execution_count": null,
      "metadata": {
        "id": "Iylc2Xqn__Vw"
      },
      "outputs": [],
      "source": [
        "# LABELS (X, Y, TITLE)\n",
        "\n",
        "# Basic scatter plot, log scale\n",
        "plt.scatter(gdp_cap, life_exp)\n",
        "plt.xscale('log')\n",
        "\n",
        "# Strings\n",
        "xlab = 'GDP per Capita [in USD]'\n",
        "ylab = 'Life Expectancy [in years]'\n",
        "title = 'World Development in 2007'\n",
        "\n",
        "# Add axis labels\n",
        "plt.xlabel(xlab)\n",
        "plt.ylabel(ylab)\n",
        "\n",
        "# Add title\n",
        "plt.title(title)\n",
        "\n",
        "# After customizing, display the plot\n",
        "plt.show()"
      ]
    },
    {
      "cell_type": "code",
      "source": [
        "# TICKS\n",
        "\n",
        "# Scatter plot\n",
        "plt.scatter(gdp_cap, life_exp)\n",
        "\n",
        "# Previous customizations\n",
        "plt.xscale('log')\n",
        "plt.xlabel('GDP per Capita [in USD]')\n",
        "plt.ylabel('Life Expectancy [in years]')\n",
        "plt.title('World Development in 2007')\n",
        "\n",
        "# Definition of tick_val and tick_lab\n",
        "tick_val = [1000, 10000, 100000]\n",
        "tick_lab = ['1k', '10k', '100k']\n",
        "\n",
        "# Adapt the ticks on the x-axis\n",
        "plt.xticks(tick_val,tick_lab)\n",
        "\n",
        "# After customizing, display the plot\n",
        "plt.show()\n"
      ],
      "metadata": {
        "id": "uoZ_WhcSFLQK"
      },
      "execution_count": null,
      "outputs": []
    },
    {
      "cell_type": "markdown",
      "source": [
        "**CREATING DICTIONARY**\n",
        "```\n",
        "my_dict = {\n",
        "   \"key1\":\"value1\",\n",
        "   \"key2\":\"value2\",\n",
        "}\n",
        "```\n",
        "- Keys have to be \"immutable\" objects (can't change)\n",
        "\n",
        "**LIST**\n",
        "- indexed by range of numbers\n",
        "- collection of values - order matters, for selecting entire subsets\n",
        "**DICTIONARY**\n",
        "- indexed by unique keys\n",
        "- lookup table with unique keys"
      ],
      "metadata": {
        "id": "WJr_WY1OJrXX"
      }
    },
    {
      "cell_type": "code",
      "source": [
        "# DICTIONARY MANIPULATION\n",
        "\n",
        "# Definition of dictionary\n",
        "europe = {'spain':'madrid', 'france':'paris', 'germany':'berlin', 'norway':'oslo' }\n",
        "\n",
        "# Add italy to europe\n",
        "europe['italy'] = 'rome'\n",
        "\n",
        "\n",
        "# Print out italy in europe\n",
        "print('italy' in europe)\n",
        "\n",
        "# Add poland to europe\n",
        "europe['poland'] = 'warsaw'\n",
        "\n",
        "\n",
        "# Print europe\n",
        "print(europe)"
      ],
      "metadata": {
        "id": "PE02-ljVFLOv"
      },
      "execution_count": null,
      "outputs": []
    },
    {
      "cell_type": "code",
      "source": [
        "# UPDATING AND REMOVING\n",
        "\n",
        "# Update capital of germany\n",
        "europe['germany'] = 'berlin'\n",
        "\n",
        "# Remove australia\n",
        "del(europe['australia'])"
      ],
      "metadata": {
        "id": "8HPHMi_9FLNE"
      },
      "execution_count": null,
      "outputs": []
    },
    {
      "cell_type": "markdown",
      "source": [
        "## **PANDAS**\n",
        "- can handle different data types\n",
        "- high level data manipulation tool\n",
        "- Wes McKinney\n",
        "- Built on NumPy\n",
        "- store the tabular data like the brics table in an object called **DataFrame**\n",
        "\n",
        "CSV - comma separated values\n",
        "\n",
        "**DataFrame** is one of Pandas' most important data structures. It's basically a way to store tabular data where you can label the rows and the columns. One way to build a DataFrame is from a dictionary."
      ],
      "metadata": {
        "id": "yBJQeyceWUHI"
      }
    },
    {
      "cell_type": "code",
      "source": [
        "# DICTIONARY TO DATAFRAME\n",
        "\n",
        "# Pre-defined lists\n",
        "names = ['United States', 'Australia', 'Japan', 'India', 'Russia', 'Morocco', 'Egypt']\n",
        "dr =  [True, False, False, False, True, True, True]\n",
        "cpc = [809, 731, 588, 18, 200, 70, 45]\n",
        "\n",
        "# Import pandas as pd\n",
        "import pandas as pd\n",
        "\n",
        "# Create dictionary my_dict with three key:value pairs: my_dict\n",
        "my_dict = {'country':names, 'drives_right':dr, 'cars_per_cap':cpc}\n",
        "\n",
        "# Build a DataFrame cars from my_dict: cars\n",
        "cars= pd.DataFrame(my_dict)\n",
        "\n",
        "# Print cars\n",
        "print(cars)"
      ],
      "metadata": {
        "id": "-5K05I3MYcKd"
      },
      "execution_count": null,
      "outputs": []
    },
    {
      "cell_type": "markdown",
      "source": [
        "PANDAS\n",
        "- `loc` (label-based)\n",
        "- `iloc` (interger position-based)\n",
        "```\n",
        "cars['cars_per_cap']\n",
        "cars[['cars_per_cap']]\n",
        "```\n",
        "The single bracket version gives a Pandas Series, the double bracket version gives a Pandas DataFrame.\n",
        "\n",
        "---\n",
        "```\n",
        "cars.loc['IN', 'cars_per_cap']\n",
        "cars.iloc[3, 0]\n",
        "\n",
        "cars.loc[['IN', 'RU'], 'cars_per_cap']\n",
        "cars.iloc[[3, 4], 0]\n",
        "\n",
        "cars.loc[['IN', 'RU'], ['cars_per_cap', 'country']]\n",
        "cars.iloc[[3, 4], [0, 1]]\n",
        "```\n",
        "---\n",
        "```\n",
        "cars.loc[:, 'country']\n",
        "cars.iloc[:, 1]\n",
        "\n",
        "cars.loc[:, ['country','drives_right']]\n",
        "cars.iloc[:, [1, 2]]\n",
        "```"
      ],
      "metadata": {
        "id": "UCo_9YnyZwZ-"
      }
    },
    {
      "cell_type": "code",
      "source": [
        "# BOOLEAN OPERATORS WITH NUMPY\n",
        "\n",
        "# Create arrays\n",
        "import numpy as np\n",
        "my_house = np.array([18.0, 20.0, 10.75, 9.50])\n",
        "your_house = np.array([14.0, 24.0, 14.25, 9.0])\n",
        "\n",
        "# my_house greater than 18.5 or smaller than 10\n",
        "print(np.logical_or(my_house > 18.5, my_house < 10))\n",
        "\n",
        "# Both my_house and your_house smaller than 11\n",
        "print(np.logical_and(my_house < 11, your_house < 11))"
      ],
      "metadata": {
        "id": "Q-dPdNX5QUDo"
      },
      "execution_count": null,
      "outputs": []
    },
    {
      "cell_type": "markdown",
      "source": [
        "COMPARISON OPERATORS\n",
        "- `<, >, >=, <=, ==, !=`\n",
        "\n",
        "BOOLEAN OPERATORS\n",
        "- `and, or, not`\n",
        "\n",
        "CONDITIONAL STATEMENTS\n",
        "- `if, else, elif`\n",
        "\n",
        "```\n",
        "if condition :\n",
        "    expression\n",
        "elif condition\n",
        "    expression\n",
        "else :\n",
        "    expression\n",
        "```"
      ],
      "metadata": {
        "id": "zh5gD2Aaembi"
      }
    },
    {
      "cell_type": "markdown",
      "source": [
        "# **LOOPS**\n",
        "\n",
        "**WHILE**\n",
        "```\n",
        "while condition :\n",
        "  expression\n",
        "```\n",
        "```\n",
        "error = 50.0\n",
        "while error > 1 :\n",
        "    error = error / 4\n",
        "    print(error)\n",
        "```\n",
        "\n",
        "**LOOPS**\n",
        "```\n",
        "fam = [1.73, 1.68, 1.71, 1.89]\n",
        "for height in fam :\n",
        "    print(height)\n",
        "```\n",
        "**LOOP OVER DICTIONARY**\n",
        "```\n",
        "world = { \"afghanistan\":30.55,\n",
        "          \"albania\":2.77,\n",
        "          \"algeria\":39.21 }\n",
        "\n",
        "for key, value in world.items() :\n",
        "    print(key + \" -- \" + str(value))\n",
        "```\n",
        "```\n",
        "# Import numpy as np\n",
        "import numpy as np\n",
        "\n",
        "# For loop over np_height\n",
        "for x in np_height:\n",
        "    print(str(x) + ' inches')\n",
        "\n",
        "# For loop over np_baseball\n",
        "for x in np.nditer(np_baseball):\n",
        "    print(str(x))\n",
        "```\n",
        "\n"
      ],
      "metadata": {
        "id": "uSrAQMWjIbzk"
      }
    },
    {
      "cell_type": "markdown",
      "source": [
        "every observation is iterated over and on every iteration the row label and actual row contents are available:\n",
        "```\n",
        "for lab, row in brics.iterrows() :\n",
        "    ...\n",
        "```"
      ],
      "metadata": {
        "id": "3JH9Qql0QCVi"
      }
    },
    {
      "cell_type": "markdown",
      "source": [
        "```\n",
        "# Import numpy as np\n",
        "import numpy as np\n",
        "\n",
        "# Set the seed\n",
        "np.random.seed(123)\n",
        "\n",
        "# Generate and print random float\n",
        "print(np.random.rand())\n",
        "```\n",
        "The following call generates the integer 4, 5, 6 or 7 randomly. 8 is not included.\n",
        "```\n",
        "import numpy as np\n",
        "np.random.randint(4, 8)\n",
        "```"
      ],
      "metadata": {
        "id": "K__jrR1FqisF"
      }
    },
    {
      "cell_type": "markdown",
      "source": [
        "```\n",
        "# numpy and matplotlib imported, seed set\n",
        "\n",
        "# Simulate random walk 500 times\n",
        "all_walks = []\n",
        "for i in range(500) :\n",
        "    random_walk = [0]\n",
        "    for x in range(100) :\n",
        "        step = random_walk[-1]\n",
        "        dice = np.random.randint(1,7)\n",
        "        if dice <= 2:\n",
        "            step = max(0, step - 1)\n",
        "        elif dice <= 5:\n",
        "            step = step + 1\n",
        "        else:\n",
        "            step = step + np.random.randint(1,7)\n",
        "        if np.random.rand() <= 0.001 :\n",
        "            step = 0\n",
        "        random_walk.append(step)\n",
        "    all_walks.append(random_walk)\n",
        "\n",
        "# Create and plot np_aw_t\n",
        "np_aw_t = np.transpose(np.array(all_walks))\n",
        "\n",
        "# Select last row from np_aw_t: ends\n",
        "ends = np_aw_t[-1,:]\n",
        "\n",
        "# Plot histogram of ends, display plot\n",
        "plt.hist(ends)\n",
        "plt.show()\n",
        "```"
      ],
      "metadata": {
        "id": "E0qt3LV45FqH"
      }
    },
    {
      "cell_type": "code",
      "source": [],
      "metadata": {
        "id": "W3qZxRwg5GjW"
      },
      "execution_count": null,
      "outputs": []
    }
  ]
}