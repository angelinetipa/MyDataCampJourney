{
  "nbformat": 4,
  "nbformat_minor": 0,
  "metadata": {
    "colab": {
      "provenance": [],
      "authorship_tag": "ABX9TyNeeU1phaa8FLuitPcBmMoW",
      "include_colab_link": true
    },
    "kernelspec": {
      "name": "python3",
      "display_name": "Python 3"
    },
    "language_info": {
      "name": "python"
    }
  },
  "cells": [
    {
      "cell_type": "markdown",
      "metadata": {
        "id": "view-in-github",
        "colab_type": "text"
      },
      "source": [
        "<a href=\"https://colab.research.google.com/github/angelinetipa/MyDataCampJourney/blob/master/Introduction_to_Python.ipynb\" target=\"_parent\"><img src=\"https://colab.research.google.com/assets/colab-badge.svg\" alt=\"Open In Colab\"/></a>"
      ]
    },
    {
      "cell_type": "markdown",
      "source": [
        "**Python Script**\n",
        "- Text files - `.py`\n",
        "\n",
        "**Variable** - specific, case-sensitive name\n",
        "\n",
        "**String **\n",
        "- python's way to represent text\n",
        "- can use both double and sigle quotes\n",
        "\n",
        "Different type = different behavior\n",
        "\n",
        "**Variable Types**\n",
        "- `int`, or integer: a number without a fractional part.\n",
        "- `float`, or floating point: a number that has both an integer and fractional part, separated by a point.\n",
        "- `str`, or string: a type to represent text. You can use single or double quotes to build a string.\n",
        "- `bool`, or boolean: a type to represent logical values. It can only be True or False (the capitalization is important!).\n",
        "\n",
        "**Python List `[]`**\n",
        "- compound data type\n",
        "- name a collection of values\n",
        "- can also contain a mix of Python types including strings, floats, and booleans.\n",
        "\n",
        "**Slicing and Dicing**\n",
        "- means selecting multiple elements from your list\n",
        "- syntax: `my_list[start:end]`\n",
        "  - `start` index will be included\n",
        "  - `end` index is not\n",
        "\n",
        "**Replacing list elements**\n",
        "- `areas[4]= \"chill zone\"`\n",
        "\n",
        "**Delete list elements**\n",
        "\n",
        "- ```\n",
        "x = [\"a\", \"b\", \"c\", \"d\"]\n",
        "del x[1]\n",
        "```\n",
        "\n",
        "\n",
        "\n",
        "\n"
      ],
      "metadata": {
        "id": "PT8NkUOLbZF3"
      }
    },
    {
      "cell_type": "markdown",
      "source": [
        "**Functions**\n",
        "- piece of reusable code\n",
        "- solves particular task\n",
        "---\n",
        "- `len()` - get the length of the list\n",
        "---\n",
        "**to figure out how to use function**\n",
        "- `help()`\n",
        "- `? before the function name`\n",
        "---\n",
        "`sorted()`\n",
        "- full_sorted = sorted(full, reverse = True) Sort full in descending order: full_sorted\n",
        "---\n",
        "- `.upper()` - capitalizes all letter\n",
        "- `.count()` - to get the number of times an element appears in a list.\n",
        "- `.index()` - to get the index of the first element of a list that matches its input\n",
        "- `.append()`, that adds an element to the list it is called on\n",
        "- `.remove(),` that removes the first element of a list that matches the input\n",
        "- `.reverse()`, that reverses the order of the elements in the list it is called on\n",
        "---\n",
        "**Packages**\n",
        "- directory of python scripts\n",
        "- each script = module\n",
        "- specify functions, methods, types\n",
        "- thousand of packages available\n",
        "  - NumPy - to effitiently work with arrays\n",
        "  - Matplotlib - data visualization\n",
        "  - scikit-learn - machine learning\n",
        "    - Install package\n",
        "      - pip3 install numpy\n",
        "---\n",
        "```\n",
        "STANDARD\n",
        "import numpy as np\n",
        "np.array()\n",
        "\n",
        "SELECTIVE IMPORT\n",
        "# If only want to use array from numpy\n",
        "from numpy import array\n",
        "array([])\n",
        "\n",
        "```\n",
        "\n",
        "\n"
      ],
      "metadata": {
        "id": "yM-wohzWlbyx"
      }
    },
    {
      "cell_type": "code",
      "source": [
        "# MATH PACKAGE\n",
        "\n",
        "# Import the math package\n",
        "import math\n",
        "\n",
        "# Calculate C\n",
        "C = 2 * 0.43 * math.pi"
      ],
      "metadata": {
        "id": "dR9mP-bOzpb8"
      },
      "execution_count": null,
      "outputs": []
    },
    {
      "cell_type": "markdown",
      "source": [
        "## **NumPy (Numeric Python)**\n",
        "- alternative to python list: NumPy Array\n",
        "- calculations over entire arrays\n",
        "- contain only one type"
      ],
      "metadata": {
        "id": "TVmKqhNB0Q3e"
      }
    },
    {
      "cell_type": "code",
      "source": [
        "# CREATING NUMPY ARRAY\n",
        "\n",
        "# Import the numpy package as np\n",
        "import numpy as np\n",
        "\n",
        "baseball = [180, 215, 210, 210, 188, 176, 209, 200]\n",
        "\n",
        "# Create a numpy array from baseball: np_baseball\n",
        "np_baseball = np.array(baseball)\n",
        "\n",
        "# Print out type of np_baseball\n",
        "print(type(np_baseball))"
      ],
      "metadata": {
        "id": "wz9VE9I91oOT"
      },
      "execution_count": null,
      "outputs": []
    },
    {
      "cell_type": "code",
      "source": [
        "# CREATING 2D NUMPY ARRAY\n",
        "\n",
        "import numpy as np\n",
        "\n",
        "baseball = [[180, 78.4],\n",
        "            [215, 102.7],\n",
        "            [210, 98.5],\n",
        "            [188, 75.2]]\n",
        "\n",
        "# Create a 2D numpy array from baseball: np_baseball\n",
        "np_baseball = np.array(baseball)\n",
        "\n",
        "# Print out the type of np_baseball\n",
        "print(type(np_baseball))\n",
        "\n",
        "# Print out the shape of np_baseball\n",
        "print(np_baseball.shape)"
      ],
      "metadata": {
        "id": "CL0WPSSt3mUI"
      },
      "execution_count": null,
      "outputs": []
    },
    {
      "cell_type": "code",
      "source": [
        "# SUBSETTING 2D NUMPY ARRAYS\n",
        "\n",
        "import numpy as np\n",
        "\n",
        "np_baseball = np.array(baseball)\n",
        "\n",
        "# Print out the 50th row of np_baseball\n",
        "print(np_baseball[49,:])\n",
        "\n",
        "# Select the entire second column of np_baseball: np_weight_lb\n",
        "np_weight_lb = np_baseball[:,1]\n",
        "\n",
        "# Print out height of 124th player\n",
        "print(np_baseball[123])"
      ],
      "metadata": {
        "id": "en4-gVwI4kM9"
      },
      "execution_count": null,
      "outputs": []
    },
    {
      "cell_type": "markdown",
      "source": [
        "```\n",
        "# numpy\n",
        "import numpy as np\n",
        "np_x = np.array(x)\n",
        "np_x[row:column]\n",
        "```"
      ],
      "metadata": {
        "id": "188u20Uy35Wn"
      }
    },
    {
      "cell_type": "code",
      "source": [
        "# CALCULATIONS ELEMENT BY ELEMENT\n",
        "import numpy as np\n",
        "\n",
        "np_baseball = np.array(baseball)\n",
        "\n",
        "# Print out addition of np_baseball and updated\n",
        "print(np_baseball + updated)\n",
        "\n",
        "# Create numpy array: conversion\n",
        "conversion = np.array([0.0254, 0.453592, 1])\n",
        "\n",
        "# Print out product of np_baseball and conversion\n",
        "print()\n",
        "print(np_baseball* conversion)"
      ],
      "metadata": {
        "id": "fyE69YUw4zSo"
      },
      "execution_count": null,
      "outputs": []
    },
    {
      "cell_type": "code",
      "source": [
        "# MEAN, MEDIAN, STANDARD DEVIATION, CORRELATION\n",
        "avg = np.mean(np_baseball[:,0])\n",
        "print(\"Average: \" + str(avg))\n",
        "\n",
        "# Print median height\n",
        "med = ____\n",
        "print(\"Median: \" + str(med))\n",
        "\n",
        "# Print out the standard deviation on height\n",
        "stddev = ____\n",
        "print(\"Standard Deviation: \" + str(stddev))\n",
        "\n",
        "# Print out correlation between first and second column\n",
        "corr = ____\n",
        "print(\"Correlation: \" + str(corr))"
      ],
      "metadata": {
        "id": "dVjTJ8hE-6ci"
      },
      "execution_count": null,
      "outputs": []
    }
  ]
}