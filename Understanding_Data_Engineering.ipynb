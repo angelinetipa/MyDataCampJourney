{
  "nbformat": 4,
  "nbformat_minor": 0,
  "metadata": {
    "colab": {
      "provenance": [],
      "authorship_tag": "ABX9TyNQpUzS9hKuAb71166nRTq9",
      "include_colab_link": true
    },
    "kernelspec": {
      "name": "python3",
      "display_name": "Python 3"
    },
    "language_info": {
      "name": "python"
    }
  },
  "cells": [
    {
      "cell_type": "markdown",
      "metadata": {
        "id": "view-in-github",
        "colab_type": "text"
      },
      "source": [
        "<a href=\"https://colab.research.google.com/github/angelinetipa/MyDataCampJourney/blob/master/Understanding_Data_Engineering.ipynb\" target=\"_parent\"><img src=\"https://colab.research.google.com/assets/colab-badge.svg\" alt=\"Open In Colab\"/></a>"
      ]
    },
    {
      "cell_type": "markdown",
      "source": [
        "## **DATA ENGINEERS**\n",
        "- responsible for the first step of the process: ingesting collected data and storing it\n",
        "- Delivers:\n",
        "  - correct data\n",
        "  - in the right form\n",
        "  - to the right people\n",
        "  - as efficiently as possible\n",
        "- ingest data from different sources\n",
        "- optimize databases for analysis\n",
        "- remove corrupted data\n",
        "- develop, construct, test and maintain data architecture\n",
        "\n",
        "BIG DATA - defined as data so large you have to think about how to deal with its size. So large traditional methods dont work anymore\n",
        "  - Commonly characterized by five V'S\n",
        "    - Volume - how much\n",
        "    - Variety - what kind\n",
        "    - Velocity - how frequent\n",
        "    - Veracity - how accurate\n",
        "    - Value - how useful"
      ],
      "metadata": {
        "id": "tWUODX9dLLnC"
      }
    },
    {
      "cell_type": "markdown",
      "source": [
        "DATA ENGINEERS -  ay the groundwork that makes data science activvity possible\n",
        "- ingest and store data\n",
        "- set up databases\n",
        "- build data pipelines\n",
        "- strong software skills (Python, Java, SQL) - to create, update and transform databases\n",
        "\n",
        "DATA SCIENTIST - intervene on the rest of the workflow:\n",
        "  - they prepare the data according to their analysis needs\n",
        "  - explore it, build insightful visualizations\n",
        "  - then run experiments or build predictive models\n",
        "- exploit data\n",
        "- access databases\n",
        "- use pipline outputs\n",
        "- strong analytical skills (Python or R, SQL TO query) - to request info from databases"
      ],
      "metadata": {
        "id": "jSzpD3-DNpja"
      }
    },
    {
      "cell_type": "markdown",
      "source": [
        "**DATA PIPELINES**\n",
        "- ensure the data flows efficiently through the organization\n",
        "- move data from one system to another\n",
        "- follow ETL, not all the time\n",
        "- data may be transformed\n",
        "- data may be directly loaded in applciations\n",
        "\n",
        "Automate\n",
        "- extracting\n",
        "- transforming\n",
        "- combining\n",
        "- validating\n",
        "- loading\n",
        "\n",
        "To Reduce\n",
        "- human intervention\n",
        "- errors\n",
        "- time it takes data to flow\n",
        "\n",
        "ETL - popular framework for designing data pipelines\n",
        "1. Extract data\n",
        "2. Transform extracted data\n",
        "3. Load transformed data to another database"
      ],
      "metadata": {
        "id": "x0u3Mm16S6Xo"
      }
    },
    {
      "cell_type": "markdown",
      "source": [
        "**STRUCTURED DATA**\n",
        "- easy to search and organize\n",
        "- consistent model, rows and columns\n",
        "- defined types\n",
        "- can be grouped to form relations\n",
        "- stored in relational databases\n",
        "- about 20% of the data is structured\n",
        "- created and queried using SQL\n",
        "\n",
        "**SEMI- STRUCTURED DATA**\n",
        "- relatively easy to search and organize\n",
        "- consistent model, less-rigid implementation: diff observations have different sizes\n",
        "- different types\n",
        "- can be grouped, needs more work\n",
        "- NoSQL databases: JSON, XML, YAML\n",
        "\n",
        "**UNSTRUCTURED DATA**\n",
        "- does not follow a model, cant be contained in rows and columns\n",
        "- difficult to search and organize\n",
        "- text, sound, pictures or videos\n",
        "- stored in data lakes, can appear in data warehouses or databases\n",
        "- most of the data is unstructured\n",
        "- can be extremely valuable"
      ],
      "metadata": {
        "id": "znH1_20TVRXQ"
      }
    },
    {
      "cell_type": "markdown",
      "source": [
        "**SQL - STRUCTURED QUERY LANGUAGE**\n",
        "- industry standard for relational database management system RDBMS\n",
        "- allows you to access many records at once, and group, filter or aggragate them\n",
        "- close to written english, easy to write and understand\n",
        "- data engineers use SQL to create and maintain databases\n",
        "- data scientists use SQL to query (request info from) databases"
      ],
      "metadata": {
        "id": "y67LWTUSXEC-"
      }
    },
    {
      "cell_type": "markdown",
      "source": [
        "**DATA LAKES**\n",
        "- stores all the raw data\n",
        "- can be petabytes (1 million GBs)\n",
        "- stores all data structures\n",
        "- cost-effective\n",
        "- difficult to analyze\n",
        "- requires an up-to-date data catalog\n",
        "- used by data scientists\n",
        "- big data, real time analytics\n",
        "\n",
        "**DATA WAREHOUSE**\n",
        "- specific data for specific use\n",
        "- relatively small\n",
        "- stores mainly strcutured data\n",
        "- more costly to update\n",
        "- optimized for data analysis\n",
        "- used by data analyts and business analysts\n",
        "- ad-hoc, read-only queries"
      ],
      "metadata": {
        "id": "q7zH5ftGZHvV"
      }
    }
  ]
}