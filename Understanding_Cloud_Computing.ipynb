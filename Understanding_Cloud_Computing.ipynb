{
  "nbformat": 4,
  "nbformat_minor": 0,
  "metadata": {
    "colab": {
      "provenance": [],
      "authorship_tag": "ABX9TyN76rbqRIPmMir3lhoeaqqp",
      "include_colab_link": true
    },
    "kernelspec": {
      "name": "python3",
      "display_name": "Python 3"
    },
    "language_info": {
      "name": "python"
    }
  },
  "cells": [
    {
      "cell_type": "markdown",
      "metadata": {
        "id": "view-in-github",
        "colab_type": "text"
      },
      "source": [
        "<a href=\"https://colab.research.google.com/github/angelinetipa/MyDataCampJourney/blob/master/Introduction_to_Cloud_Computing.ipynb\" target=\"_parent\"><img src=\"https://colab.research.google.com/assets/colab-badge.svg\" alt=\"Open In Colab\"/></a>"
      ]
    },
    {
      "cell_type": "markdown",
      "source": [
        "**CLOUD COMPUTING**\n",
        "- computing power\n",
        "- storage\n",
        "- databases\n",
        "- networking\n",
        "- over the internet\n",
        "- pay as you go pricing\n",
        "\n",
        "**CLOUD SERVICE MODELS**\n",
        "- Infrastructure as a Service (Iaas)\n",
        "- Platform as a Service (Paas)\n",
        "- Software as a Service (Saas)\n",
        "\n",
        "**PRIVATE CLOUD**\n",
        "- designated for exclusive use by its tenants\n",
        "- accessed by a network link\n",
        "- Pros: Direct control of resources and data\n",
        "- Cons: More upfront investment\n",
        "- uses virtualization for on-demand compute resources and can be off premises\n",
        "\n",
        "**PUBLIC CLOUD**\n",
        "- shred and open for use by the general public. its owned and managed by a cloud servicce provider.\n",
        "- internet accessible\n",
        "- Pros: get started quickly with minimal investment\n",
        "- easier to scale\n",
        "- Cos: No access to data center and hardware\n",
        "\n",
        "**HYBRID CLOUD**\n",
        "- combination of two or more distinct models\n",
        "- sensitive data on private cloud and public cloud for analytics\n",
        "- cloud bursing: private hits capacity, temporarily move overflow to the public cloud to avoid disruption of service\n",
        "\n",
        "**GENERAL DATA PROTECTION REGULATION (GDPR)**\n",
        "- regulates how personal data is collected, processed and stored from users in the EU\n",
        "\n"
      ],
      "metadata": {
        "id": "Ni7_JbimnNos"
      }
    },
    {
      "cell_type": "markdown",
      "source": [
        "**AMAZON WEB SERVICES - AWS**\n",
        "- launched in 2006 (Google Cloud in 2008, Microsoft Azure in 2010)\n",
        "- Breadth of services:\n",
        "  - computing\n",
        "  - storage\n",
        "  - analytics\n",
        "  - security and enterprise applications\n",
        "  - machine learning\n",
        "- Market share: 31%\n",
        "\n",
        "**REDSHIFT**- analytics (data warehousing)\n",
        "**KINESIS**- real time data movement and analytics\n",
        "**SAGEMAKER** - predictuve and machine learning\n",
        "\n",
        "**MICROSOFT AZURE **\n",
        "- intergration with microsoft products\n",
        "- benefits from customer loyalty, top of mind choice\n",
        "- market share: 24%\n",
        "\n",
        "**GOOGLE CLOUD**\n",
        "- run hybrid multi-cloud solutions:\n",
        "  - manage and deploy across several cloud providers\n",
        "- market share: 11%\n",
        "\n",
        "### **NEXT STEP**\n",
        "- Intro to Azure\n",
        "- Intro to AWS\n",
        "- Intro to GCP"
      ],
      "metadata": {
        "id": "kNKPNNHz1D-_"
      }
    }
  ]
}
